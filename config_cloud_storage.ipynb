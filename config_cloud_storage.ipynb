{
 "cells": [
  {
   "cell_type": "code",
   "execution_count": 1,
   "id": "aba44dfd",
   "metadata": {},
   "outputs": [],
   "source": [
    "import vertexai"
   ]
  },
  {
   "cell_type": "code",
   "execution_count": 2,
   "id": "6673f7c7-b981-4941-b085-252fd522c077",
   "metadata": {},
   "outputs": [],
   "source": [
    "import os"
   ]
  },
  {
   "cell_type": "code",
   "execution_count": 3,
   "id": "de0699ca",
   "metadata": {},
   "outputs": [],
   "source": [
    "from google.cloud import storage"
   ]
  },
  {
   "cell_type": "code",
   "execution_count": 4,
   "id": "cc67b7e6-09f2-48a2-9962-ccfa04f4c7bc",
   "metadata": {},
   "outputs": [],
   "source": [
    "from google.cloud import aiplatform"
   ]
  },
  {
   "cell_type": "code",
   "execution_count": 5,
   "id": "c1d5ea17",
   "metadata": {},
   "outputs": [],
   "source": [
    "from vertexai.generative_models import GenerativeModel, Part"
   ]
  },
  {
   "cell_type": "code",
   "execution_count": 6,
   "id": "070e4268",
   "metadata": {},
   "outputs": [],
   "source": [
    "os.environ[\"GOOGLE_APPLICATION_CREDENTIALS\"] = \"ui-ux-model-6e8765c9a1a6.json\""
   ]
  },
  {
   "cell_type": "code",
   "execution_count": 7,
   "id": "3c8a9017",
   "metadata": {},
   "outputs": [],
   "source": [
    "aiplatform.init(project=\"ui-ux-model\", location=\"us-central1\")"
   ]
  },
  {
   "cell_type": "code",
   "execution_count": 8,
   "id": "f803f802",
   "metadata": {},
   "outputs": [],
   "source": [
    "storage_client = storage.Client()"
   ]
  },
  {
   "cell_type": "code",
   "execution_count": 9,
   "id": "0157cef7",
   "metadata": {},
   "outputs": [],
   "source": [
    "model_name = \"gemini-1.5-flash-preview-0514\""
   ]
  },
  {
   "cell_type": "code",
   "execution_count": 10,
   "id": "4fa1c897",
   "metadata": {},
   "outputs": [],
   "source": [
    "model = GenerativeModel(model_name=model_name)"
   ]
  },
  {
   "cell_type": "code",
   "execution_count": 11,
   "id": "bac2b166",
   "metadata": {},
   "outputs": [],
   "source": [
    "bucket_name = \"test-pdfs-store\""
   ]
  },
  {
   "cell_type": "code",
   "execution_count": 12,
   "id": "6a30398b",
   "metadata": {},
   "outputs": [],
   "source": [
    "bucket = storage_client.bucket(bucket_name)"
   ]
  },
  {
   "cell_type": "code",
   "execution_count": 13,
   "id": "9268759e",
   "metadata": {},
   "outputs": [
    {
     "ename": "TypeError",
     "evalue": "Bucket.blob() missing 1 required positional argument: 'blob_name'",
     "output_type": "error",
     "traceback": [
      "\u001b[0;31m---------------------------------------------------------------------------\u001b[0m",
      "\u001b[0;31mTypeError\u001b[0m                                 Traceback (most recent call last)",
      "Cell \u001b[0;32mIn[13], line 1\u001b[0m\n\u001b[0;32m----> 1\u001b[0m blob \u001b[38;5;241m=\u001b[39m bucket\u001b[38;5;241m.\u001b[39mblob()\n",
      "\u001b[0;31mTypeError\u001b[0m: Bucket.blob() missing 1 required positional argument: 'blob_name'"
     ]
    }
   ],
   "source": [
    "blob = bucket.blob()"
   ]
  },
  {
   "cell_type": "code",
   "execution_count": null,
   "id": "17fcca15",
   "metadata": {},
   "outputs": [],
   "source": [
    "pdf_file_uri = \"gs://test-pdfs-store/input_files/Chapter-4.pdf\""
   ]
  },
  {
   "cell_type": "code",
   "execution_count": null,
   "id": "3017978c",
   "metadata": {},
   "outputs": [],
   "source": [
    "prompt = \"\"\"What is this pdf about?\"\"\""
   ]
  },
  {
   "cell_type": "code",
   "execution_count": null,
   "id": "8a623ede",
   "metadata": {},
   "outputs": [],
   "source": [
    "pdf_file = Part.from_uri(pdf_file_uri, mime_type=\"application/pdf\")\n",
    "contents = [pdf_file, prompt]"
   ]
  },
  {
   "cell_type": "code",
   "execution_count": null,
   "id": "e4dfcf49",
   "metadata": {},
   "outputs": [],
   "source": [
    "response = model.generate_content(contents)"
   ]
  },
  {
   "cell_type": "code",
   "execution_count": null,
   "id": "991a46d9",
   "metadata": {},
   "outputs": [],
   "source": [
    "print(response)"
   ]
  },
  {
   "cell_type": "code",
   "execution_count": null,
   "id": "3c849b37",
   "metadata": {},
   "outputs": [],
   "source": [
    "def list_blobs(bucket_name):\n",
    "    \"\"\"Lists all the blobs in the bucket.\"\"\"\n",
    "    # bucket_name = \"test-pdfs-store\"\n",
    "\n",
    "    storage_client = storage.Client()\n",
    "\n",
    "    # Note: Client.list_blobs requires at least package version 1.17.0.\n",
    "    blobs = storage_client.list_blobs(bucket_name)\n",
    "\n",
    "    # Note: The call returns a response only when the iterator is consumed.\n",
    "    for blob in blobs:\n",
    "        print(blob.name)"
   ]
  },
  {
   "cell_type": "code",
   "execution_count": null,
   "id": "aaea6cfd",
   "metadata": {},
   "outputs": [],
   "source": [
    "list_blobs(bucket_name)"
   ]
  },
  {
   "cell_type": "code",
   "execution_count": null,
   "id": "bbb98576",
   "metadata": {},
   "outputs": [],
   "source": [
    "list_of_blobs = list(bucket.list_blobs(prefix = 'input_files/'))"
   ]
  },
  {
   "cell_type": "code",
   "execution_count": null,
   "id": "291e82ac",
   "metadata": {},
   "outputs": [],
   "source": [
    "print(list_of_blobs)"
   ]
  },
  {
   "cell_type": "code",
   "execution_count": null,
   "id": "f405d211",
   "metadata": {},
   "outputs": [],
   "source": [
    "list_of_blobs[1].download_to_filename('/input_files')"
   ]
  },
  {
   "cell_type": "code",
   "execution_count": null,
   "id": "fd00645b",
   "metadata": {},
   "outputs": [],
   "source": []
  }
 ],
 "metadata": {
  "kernelspec": {
   "display_name": "Python 3 (ipykernel)",
   "language": "python",
   "name": "python3"
  },
  "language_info": {
   "codemirror_mode": {
    "name": "ipython",
    "version": 3
   },
   "file_extension": ".py",
   "mimetype": "text/x-python",
   "name": "python",
   "nbconvert_exporter": "python",
   "pygments_lexer": "ipython3",
   "version": "3.11.7"
  }
 },
 "nbformat": 4,
 "nbformat_minor": 5
}

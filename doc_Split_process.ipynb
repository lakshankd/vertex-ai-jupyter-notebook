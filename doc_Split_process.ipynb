{
 "cells": [
  {
   "cell_type": "code",
   "execution_count": 76,
   "metadata": {},
   "outputs": [],
   "source": [
    "import os\n",
    "from google.cloud import storage\n",
    "from google.cloud import aiplatform\n",
    "from vertexai.generative_models import GenerativeModel, Part\n",
    "import PyPDF2\n",
    "import json\n",
    "import re"
   ]
  },
  {
   "cell_type": "code",
   "execution_count": 67,
   "metadata": {},
   "outputs": [],
   "source": [
    "os.environ[\"GOOGLE_APPLICATION_CREDENTIALS\"] = \"/Users/dominiclakshan/Desktop/jupyter_notebooks/pdf_splitter/ui-ux-model-6e8765c9a1a6.json\""
   ]
  },
  {
   "cell_type": "code",
   "execution_count": 68,
   "metadata": {},
   "outputs": [],
   "source": [
    "aiplatform.init(project=\"ui-ux-model\", location=\"us-central1\")"
   ]
  },
  {
   "cell_type": "code",
   "execution_count": 69,
   "metadata": {},
   "outputs": [],
   "source": [
    "storage_client = storage.Client()"
   ]
  },
  {
   "cell_type": "code",
   "execution_count": 70,
   "metadata": {},
   "outputs": [],
   "source": [
    "model_name = \"gemini-1.5-flash-preview-0514\""
   ]
  },
  {
   "cell_type": "code",
   "execution_count": 71,
   "metadata": {},
   "outputs": [],
   "source": [
    "model = GenerativeModel(model_name=model_name)"
   ]
  },
  {
   "cell_type": "code",
   "execution_count": 72,
   "metadata": {},
   "outputs": [],
   "source": [
    "bucket_name = 'test-pdfs-store'\n",
    "input_folder = 'input_files'\n",
    "output_folder = 'output_files'"
   ]
  },
  {
   "cell_type": "code",
   "execution_count": 73,
   "metadata": {},
   "outputs": [],
   "source": [
    "bucket = storage_client.get_bucket(bucket_name)"
   ]
  },
  {
   "cell_type": "code",
   "execution_count": 74,
   "metadata": {},
   "outputs": [],
   "source": [
    "blobs = list(bucket.list_blobs(prefix=f\"{input_folder}/\"))\n"
   ]
  },
  {
   "cell_type": "code",
   "execution_count": 75,
   "metadata": {},
   "outputs": [],
   "source": [
    "pdf_files = [blob.name.split('/')[-1] for blob in blobs if blob.name.endswith('.pdf')]"
   ]
  },
  {
   "cell_type": "code",
   "execution_count": 79,
   "metadata": {},
   "outputs": [
    {
     "name": "stdout",
     "output_type": "stream",
     "text": [
      "candidates {\n",
      "  content {\n",
      "    role: \"model\"\n",
      "    parts {\n",
      "      text: \"```json\\n{\\n  \\\"page_breaks\\\": [\\n    5,\\n    10,\\n    12\\n  ]\\n}\\n```\"\n",
      "    }\n",
      "  }\n",
      "  finish_reason: STOP\n",
      "  safety_ratings {\n",
      "    category: HARM_CATEGORY_HATE_SPEECH\n",
      "    probability: NEGLIGIBLE\n",
      "    probability_score: 0.11240508407354355\n",
      "    severity: HARM_SEVERITY_NEGLIGIBLE\n",
      "    severity_score: 0.08314290642738342\n",
      "  }\n",
      "  safety_ratings {\n",
      "    category: HARM_CATEGORY_DANGEROUS_CONTENT\n",
      "    probability: NEGLIGIBLE\n",
      "    probability_score: 0.10781263560056686\n",
      "    severity: HARM_SEVERITY_NEGLIGIBLE\n",
      "    severity_score: 0.04443143308162689\n",
      "  }\n",
      "  safety_ratings {\n",
      "    category: HARM_CATEGORY_HARASSMENT\n",
      "    probability: NEGLIGIBLE\n",
      "    probability_score: 0.13534632325172424\n",
      "    severity: HARM_SEVERITY_NEGLIGIBLE\n",
      "    severity_score: 0.09467770159244537\n",
      "  }\n",
      "  safety_ratings {\n",
      "    category: HARM_CATEGORY_SEXUALLY_EXPLICIT\n",
      "    probability: NEGLIGIBLE\n",
      "    probability_score: 0.14175598323345184\n",
      "    severity: HARM_SEVERITY_NEGLIGIBLE\n",
      "    severity_score: 0.09568694978952408\n",
      "  }\n",
      "}\n",
      "usage_metadata {\n",
      "  prompt_token_count: 3150\n",
      "  candidates_token_count: 32\n",
      "  total_token_count: 3182\n",
      "}\n",
      "\n",
      "Page breaks not found in the response.\n"
     ]
    }
   ],
   "source": [
    "for pdf_file in pdf_files:\n",
    "    pdf_file_uri= f\"gs://{bucket_name}/{input_folder}/{pdf_file}\"\n",
    "    prompt = \"\"\"\n",
    "    Analyze the PDF and provide the page breaks for each chapter.\n",
    "    Return the result as a JSON object with the following format:\n",
    "    {\n",
    "      \"page_breaks\": [5, 10, 15]\n",
    "    }\n",
    "    \"\"\"\n",
    "    \n",
    "    pdf_file = Part.from_uri(pdf_file_uri, mime_type=\"application/pdf\")\n",
    "    contents = [pdf_file, prompt]\n",
    "    response = model.generate_content(contents)\n",
    "    print(response)\n",
    "    response_str = str(response)\n",
    "    \n",
    "    # Check if the response is not empty before processing\n",
    "    if response_str:\n",
    "        try:\n",
    "            # Use regular expressions to extract the page breaks\n",
    "            page_breaks_pattern = r'\"text\":\\s*\"(.*?)\"'\n",
    "            match = re.search(page_breaks_pattern, response_str)\n",
    "            if match:\n",
    "                page_breaks_str = match.group(1)\n",
    "                page_breaks = [int(x) for x in page_breaks_str.split(\",\")]\n",
    "                print(\"Page Breaks:\", page_breaks)\n",
    "            else:\n",
    "                print(\"Page breaks not found in the response.\")\n",
    "        except Exception as e:\n",
    "            print(\"Error processing the response:\", e)\n",
    "    else:\n",
    "        print(\"Empty response received.\")\n"
   ]
  },
  {
   "cell_type": "code",
   "execution_count": null,
   "metadata": {},
   "outputs": [],
   "source": []
  }
 ],
 "metadata": {
  "kernelspec": {
   "display_name": "Python 3 (ipykernel)",
   "language": "python",
   "name": "python3"
  },
  "language_info": {
   "codemirror_mode": {
    "name": "ipython",
    "version": 3
   },
   "file_extension": ".py",
   "mimetype": "text/x-python",
   "name": "python",
   "nbconvert_exporter": "python",
   "pygments_lexer": "ipython3",
   "version": "3.11.7"
  }
 },
 "nbformat": 4,
 "nbformat_minor": 2
}

{
 "cells": [
  {
   "cell_type": "code",
   "execution_count": 1,
   "id": "b1aa69bf-f445-499f-9b9a-39f35b8ce9f0",
   "metadata": {},
   "outputs": [],
   "source": [
    "import os"
   ]
  },
  {
   "cell_type": "code",
   "execution_count": 2,
   "id": "610429c3-f933-48b4-9b54-e9d2240dcbd4",
   "metadata": {},
   "outputs": [],
   "source": [
    "from PyPDF2 import PdfReader, PdfWriter"
   ]
  },
  {
   "cell_type": "code",
   "execution_count": 3,
   "id": "ed10b8d5-098a-449b-bdce-235ead385f97",
   "metadata": {},
   "outputs": [],
   "source": [
    "# function for split \n",
    "def split_pdf(input_pdf_path, output_dir):\n",
    "    \"\"\"\n",
    "    Splits a PDF into individual pages and saves them in the output directory.\n",
    "    \"\"\"\n",
    "    # Create the output directory if it doesn't exist\n",
    "    os.makedirs(output_dir, exist_ok=True)\n",
    "    \n",
    "    with open(input_pdf_path, 'rb') as file:\n",
    "        reader = PdfReader(file)\n",
    "        for i in range(len(reader.pages)):\n",
    "            page = reader.pages[i]\n",
    "            writer = PdfWriter()\n",
    "            writer.add_page(page)\n",
    "            output_file_path = os.path.join(output_dir, f\"page_{i+1}.pdf\")\n",
    "            with open(output_file_path, 'wb') as output_file:\n",
    "                writer.write(output_file)\n",
    "            print(f\"Saved page {i+1} to {output_file_path}\")"
   ]
  },
  {
   "cell_type": "code",
   "execution_count": 4,
   "id": "a7843731-b0e5-4b24-bdb9-367dc304eb3d",
   "metadata": {},
   "outputs": [],
   "source": [
    "def process_all_pdfs_in_directory(directory_path, output_dir):\n",
    "    \"\"\"\n",
    "    Processes all PDFs in the given directory, splitting each into individual pages.\n",
    "    \"\"\"\n",
    "    for filename in os.listdir(directory_path):\n",
    "        if filename.endswith(\".pdf\"):\n",
    "            pdf_path = os.path.join(directory_path, filename)\n",
    "            split_pdf(pdf_path, output_dir)\n",
    "            print(f\"Processed {filename}\")"
   ]
  },
  {
   "cell_type": "code",
   "execution_count": 5,
   "id": "9c4c8932-2f27-4d17-9eab-4e6d3b1b8b9f",
   "metadata": {},
   "outputs": [
    {
     "name": "stdout",
     "output_type": "stream",
     "text": [
      "Saved page 1 to /Users/dominiclakshan/Desktop/pdfs/output_pdfs/page_1.pdf\n",
      "Saved page 2 to /Users/dominiclakshan/Desktop/pdfs/output_pdfs/page_2.pdf\n",
      "Saved page 3 to /Users/dominiclakshan/Desktop/pdfs/output_pdfs/page_3.pdf\n",
      "Saved page 4 to /Users/dominiclakshan/Desktop/pdfs/output_pdfs/page_4.pdf\n",
      "Processed file-sample_150kB.pdf\n"
     ]
    }
   ],
   "source": [
    "directory_path = \"/Users/dominiclakshan/Desktop/pdfs/input_pdfs\"\n",
    "output_dir = \"/Users/dominiclakshan/Desktop/pdfs/output_pdfs\"\n",
    "process_all_pdfs_in_directory(directory_path, output_dir)"
   ]
  },
  {
   "cell_type": "code",
   "execution_count": 9,
   "id": "e3f1ab04-8f1c-4560-b257-721b26f38a89",
   "metadata": {},
   "outputs": [],
   "source": [
    "# splitting pdfs by page nums\n",
    "def split_pdf_by_pages_in_directory(directory_path, output_dir, page_numbers):\n",
    "    \"\"\"\n",
    "    Iterates over all PDF files in the given directory, splits each into individual pages specified by page_numbers,\n",
    "    and saves them in the output directory.\n",
    "    \"\"\"\n",
    "    # Create the output directory if it doesn't exist\n",
    "    os.makedirs(output_dir, exist_ok=True)\n",
    "    \n",
    "    for filename in os.listdir(directory_path):\n",
    "        if filename.endswith(\".pdf\"):\n",
    "            pdf_path = os.path.join(directory_path, filename)\n",
    "            with open(pdf_path, 'rb') as file:\n",
    "                reader = PdfReader(file)\n",
    "                for page_number in page_numbers:\n",
    "                    page = reader.pages[page_number - 1]  # Pages are 0-indexed\n",
    "                    writer = PdfWriter()\n",
    "                    writer.add_page(page)\n",
    "                    output_file_path = os.path.join(output_dir, f\"{os.path.splitext(filename)[0]}_page_{page_number}.pdf\")\n",
    "                    with open(output_file_path, 'wb') as output_file:\n",
    "                        writer.write(output_file)\n",
    "                    print(f\"Saved page {page_number} of {filename} to {output_file_path}\")"
   ]
  },
  {
   "cell_type": "code",
   "execution_count": 10,
   "id": "5c91e297-b80f-488e-befe-431929421f10",
   "metadata": {},
   "outputs": [
    {
     "name": "stdout",
     "output_type": "stream",
     "text": [
      "Saved page 1 of file-sample_150kB.pdf to /Users/dominiclakshan/Desktop/pdfs/output_pdfs/file-sample_150kB_page_1.pdf\n",
      "Saved page 3 of file-sample_150kB.pdf to /Users/dominiclakshan/Desktop/pdfs/output_pdfs/file-sample_150kB_page_3.pdf\n"
     ]
    }
   ],
   "source": [
    "directory_path = \"/Users/dominiclakshan/Desktop/pdfs/input_pdfs\"\n",
    "output_dir = \"/Users/dominiclakshan/Desktop/pdfs/output_pdfs\"\n",
    "page_numbers = [1, 3]  # Array of page numbers to split\n",
    "\n",
    "split_pdf_by_pages_in_directory(directory_path, output_dir, page_numbers)"
   ]
  },
  {
   "cell_type": "code",
   "execution_count": 14,
   "id": "9750dfdd-3df3-4691-9534-f05e9a13d3a6",
   "metadata": {},
   "outputs": [],
   "source": [
    "def split_pdf_into_purchase_orders_in_directory(directory_path, output_dir, purchase_order_starts):\n",
    "    \"\"\"\n",
    "    Iterates over all PDF files in the given directory, splits each into separate documents for each purchase order,\n",
    "    starting at the specified page numbers, and saves them in the output directory.\n",
    "    \"\"\"\n",
    "    # Create the output directory if it doesn't exist\n",
    "    os.makedirs(output_dir, exist_ok=True)\n",
    "    \n",
    "    for filename in os.listdir(directory_path):\n",
    "        if filename.endswith(\".pdf\"):\n",
    "            pdf_path = os.path.join(directory_path, filename)\n",
    "            with open(pdf_path, 'rb') as file:\n",
    "                reader = PdfReader(file)\n",
    "                \n",
    "                for i, start_page in enumerate(purchase_order_starts, start=1):\n",
    "                    current_page = start_page\n",
    "                    writer = PdfWriter()\n",
    "                    \n",
    "                    while current_page <= len(reader.pages):\n",
    "                        page = reader.pages[current_page - 1]  # Pages are 0-indexed\n",
    "                        writer.add_page(page)\n",
    "                        current_page += 1\n",
    "                    \n",
    "                    output_file_path = os.path.join(output_dir, f\"{os.path.splitext(filename)[0]}_purchase_order_{i}.pdf\")\n",
    "                    with open(output_file_path, 'wb') as output_file:\n",
    "                        writer.write(output_file)\n",
    "                    print(f\"Saved purchase order {i} of {filename} to {output_file_path}\")"
   ]
  },
  {
   "cell_type": "code",
   "execution_count": 17,
   "id": "31f20de0-31ac-465f-944a-391118855f13",
   "metadata": {},
   "outputs": [
    {
     "name": "stdout",
     "output_type": "stream",
     "text": [
      "Saved purchase order 1 of file-sample_150kB.pdf to /Users/dominiclakshan/Desktop/pdfs/output_pdfs/pdfs_with_defined_pages/file-sample_150kB_purchase_order_1.pdf\n",
      "Saved purchase order 2 of file-sample_150kB.pdf to /Users/dominiclakshan/Desktop/pdfs/output_pdfs/pdfs_with_defined_pages/file-sample_150kB_purchase_order_2.pdf\n",
      "Saved purchase order 3 of file-sample_150kB.pdf to /Users/dominiclakshan/Desktop/pdfs/output_pdfs/pdfs_with_defined_pages/file-sample_150kB_purchase_order_3.pdf\n"
     ]
    }
   ],
   "source": [
    "input_pdf_path = \"/Users/dominiclakshan/Desktop/pdfs/input_pdfs\"  # Path to the PDF you want to split\n",
    "output_dir = \"/Users/dominiclakshan/Desktop/pdfs/output_pdfs/pdfs_with_defined_pages\"  # Directory to save the split PDFs\n",
    "purchase_order_starts = [1, 3, 4]  # Start page numbers for each purchase order\n",
    "\n",
    "split_pdf_into_purchase_orders_in_directory(directory_path, output_dir, purchase_order_starts)"
   ]
  },
  {
   "cell_type": "code",
   "execution_count": 32,
   "id": "1dba3db5-e8b0-41e9-a6f3-045b2405d3fd",
   "metadata": {},
   "outputs": [],
   "source": [
    "def split_pdf_into_purchase_orders(directory_path, output_dir, purchase_order_starts):\n",
    "    \"\"\"\n",
    "    Iterates over all PDF files in the given directory, splits each into separate documents for each purchase order,\n",
    "    starting at the specified page numbers, and saves them in the output directory.\n",
    "    \"\"\"\n",
    "    # Create the output directory if it doesn't exist\n",
    "    os.makedirs(output_dir, exist_ok=True)\n",
    "    \n",
    "    for filename in os.listdir(directory_path):\n",
    "        if filename.endswith(\".pdf\"):\n",
    "            pdf_path = os.path.join(directory_path, filename)\n",
    "            with open(pdf_path, 'rb') as file:\n",
    "                reader = PdfReader(file)\n",
    "                writer = PdfWriter()\n",
    "                \n",
    "                for i, start_page in enumerate(purchase_order_starts, start=1):\n",
    "                    # Calculate the end page for the current purchase order\n",
    "                    # Subtract 1 from the next start page if it exists; otherwise, consider the last page of the PDF\n",
    "                    if i < len(purchase_order_starts):\n",
    "                        end_page = purchase_order_starts[i] - 1\n",
    "                    else:\n",
    "                        end_page = len(reader.pages)\n",
    "                    \n",
    "                    # Ensure the end page does not exceed the total number of pages\n",
    "                    end_page = min(end_page, len(reader.pages))\n",
    "                    \n",
    "                    # Extract pages for the current purchase order\n",
    "                    for page_num in range(start_page - 1, end_page):\n",
    "                        page = reader.pages[page_num]\n",
    "                        writer.add_page(page)\n",
    "                    \n",
    "                    # Save the extracted pages to a new PDF\n",
    "                    output_file_path = os.path.join(output_dir, f\"{os.path.splitext(filename)[0]}_purchase_order_{i}.pdf\")\n",
    "                    with open(output_file_path, 'wb') as output_file:\n",
    "                        writer.write(output_file)\n",
    "                    print(f\"Saved purchase order {i} of {filename} to {output_file_path}\")\n",
    "                    # Reset the writer for the next purchase order\n",
    "                    writer = PdfWriter()"
   ]
  },
  {
   "cell_type": "code",
   "execution_count": 34,
   "id": "f0275e65-ab18-4157-92c0-23e5676921a2",
   "metadata": {},
   "outputs": [
    {
     "name": "stdout",
     "output_type": "stream",
     "text": [
      "Saved purchase order 1 of file-sample_150kB.pdf to /Users/dominiclakshan/Desktop/pdfs/output_pdfs/pdfs_with_defined_pages/file-sample_150kB_purchase_order_1.pdf\n",
      "Saved purchase order 2 of file-sample_150kB.pdf to /Users/dominiclakshan/Desktop/pdfs/output_pdfs/pdfs_with_defined_pages/file-sample_150kB_purchase_order_2.pdf\n",
      "Saved purchase order 3 of file-sample_150kB.pdf to /Users/dominiclakshan/Desktop/pdfs/output_pdfs/pdfs_with_defined_pages/file-sample_150kB_purchase_order_3.pdf\n",
      "Saved purchase order 4 of file-sample_150kB.pdf to /Users/dominiclakshan/Desktop/pdfs/output_pdfs/pdfs_with_defined_pages/file-sample_150kB_purchase_order_4.pdf\n"
     ]
    }
   ],
   "source": [
    "directory_path = \"/Users/dominiclakshan/Desktop/pdfs/input_pdfs\"\n",
    "output_dir = \"/Users/dominiclakshan/Desktop/pdfs/output_pdfs/pdfs_with_defined_pages\"\n",
    "purchase_order_starts = [1, 2, 3, 4]  # Start page numbers for each purchase order\n",
    "\n",
    "split_pdf_into_purchase_orders(directory_path, output_dir, purchase_order_starts)"
   ]
  },
  {
   "cell_type": "code",
   "execution_count": null,
   "id": "a4d2c88e-d234-4fa3-874b-0644b140f36b",
   "metadata": {},
   "outputs": [],
   "source": []
  }
 ],
 "metadata": {
  "kernelspec": {
   "display_name": "Python 3 (ipykernel)",
   "language": "python",
   "name": "python3"
  },
  "language_info": {
   "codemirror_mode": {
    "name": "ipython",
    "version": 3
   },
   "file_extension": ".py",
   "mimetype": "text/x-python",
   "name": "python",
   "nbconvert_exporter": "python",
   "pygments_lexer": "ipython3",
   "version": "3.11.7"
  }
 },
 "nbformat": 4,
 "nbformat_minor": 5
}

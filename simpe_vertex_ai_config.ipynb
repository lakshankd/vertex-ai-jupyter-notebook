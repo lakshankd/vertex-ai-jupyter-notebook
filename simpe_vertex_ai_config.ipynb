{
 "cells": [
  {
   "cell_type": "code",
   "execution_count": 1,
   "id": "3dbc0e0b-3fa3-4404-a51c-e0c62ecd5120",
   "metadata": {},
   "outputs": [],
   "source": [
    "import os"
   ]
  },
  {
   "cell_type": "code",
   "execution_count": 2,
   "id": "d79bae21-1a04-4317-a521-b4534c596caf",
   "metadata": {},
   "outputs": [],
   "source": [
    "from google.cloud import aiplatform"
   ]
  },
  {
   "cell_type": "code",
   "execution_count": 3,
   "id": "d99cc902-76b2-41cd-8713-219d385fb9f0",
   "metadata": {},
   "outputs": [],
   "source": [
    "from vertexai.generative_models import GenerativeModel"
   ]
  },
  {
   "cell_type": "code",
   "execution_count": 4,
   "id": "b872d6ec-d066-42d9-a713-22254a23fa6b",
   "metadata": {},
   "outputs": [],
   "source": [
    "# Service Key\n",
    "os.environ[\"GOOGLE_APPLICATION_CREDENTIALS\"] = \"ui-ux-model-6e8765c9a1a6.json\""
   ]
  },
  {
   "cell_type": "code",
   "execution_count": 5,
   "id": "cce747d7-d2b4-459e-8068-ef4f7744f362",
   "metadata": {},
   "outputs": [],
   "source": [
    "# Initialize the Vertex AI client\n",
    "aiplatform.init(project=\"ui-ux-model\", location=\"us-central1\")"
   ]
  },
  {
   "cell_type": "code",
   "execution_count": 6,
   "id": "55864a08-01f8-41bb-a14c-380173c63704",
   "metadata": {},
   "outputs": [],
   "source": [
    "# Specify the model name\n",
    "model_name = \"gemini-1.5-flash-preview-0514\""
   ]
  },
  {
   "cell_type": "code",
   "execution_count": 7,
   "id": "10f950cf-2af4-45cf-b13c-1b3d830edd40",
   "metadata": {},
   "outputs": [],
   "source": [
    "model = GenerativeModel(model_name=model_name)"
   ]
  },
  {
   "cell_type": "code",
   "execution_count": 8,
   "id": "f3e9c198-3cba-4518-92ed-bbaa84cc2712",
   "metadata": {},
   "outputs": [],
   "source": [
    "prompt_text = \"What's a good name for a flower shop that specializes in selling bouquets of dried flowers?\""
   ]
  },
  {
   "cell_type": "code",
   "execution_count": 9,
   "id": "55d6e965-e9a9-4cdb-8039-e1bf26dfb21c",
   "metadata": {},
   "outputs": [],
   "source": [
    "response = model.generate_content(prompt_text)"
   ]
  },
  {
   "cell_type": "code",
   "execution_count": 11,
   "id": "f1d481f9-0ae5-4a21-a41e-c1f9cbfdb2c4",
   "metadata": {},
   "outputs": [
    {
     "name": "stdout",
     "output_type": "stream",
     "text": [
      "candidates {\n",
      "  content {\n",
      "    role: \"model\"\n",
      "    parts {\n",
      "      text: \"Here are some good names for a flower shop specializing in dried flowers, categorized by style:\\n\\n**Elegant and Romantic:**\\n\\n* **Everlasting Bloom**\\n* **Dried & Divine**\\n* **The Petal Preserve**\\n* **Bloom & Wither**\\n* **Timeless Blooms**\\n* **Whispers of Bloom**\\n* **The Dried Garden**\\n* **Bloom & Co.**\\n\\n**Modern and Unique:**\\n\\n* **Paper Petal**\\n* **Dried Blooms Co.**\\n* **The Bloom Bar**\\n* **Faded & Fine**\\n* **The Wildflower Co.**\\n* **Field & Bloom**\\n* **The Dried Bouquet**\\n* **Bloom Forever**\\n\\n**Playful and Whimsical:**\\n\\n* **The Dried Flower Fairy**\\n* **Little Dried Blooms**\\n* **Dusty Petal Co.**\\n* **The Bloom Box**\\n* **Forever Flowers**\\n* **Sun-Kissed Blooms**\\n* **Wild & Dried**\\n* **The Bloomery**\\n\\n**Location-Inspired:**\\n\\n* **[Your Town] Dried Blooms**\\n* **[Your Street] Flower Co.**\\n* **The [Local Landmark] Bloom Shop**\\n\\n**Tips for Choosing a Name:**\\n\\n* **Keep it short and memorable.**\\n* **Consider your target audience.**\\n* **Make sure the name is available as a website domain and social media handle.**\\n* **Say the name out loud to see how it sounds.**\\n\\n**Bonus Tip:**  Think about incorporating a visual element into your logo that represents dried flowers, like a delicate flower silhouette or a stylized floral pattern. \\n\"\n",
      "    }\n",
      "  }\n",
      "  finish_reason: STOP\n",
      "  safety_ratings {\n",
      "    category: HARM_CATEGORY_HATE_SPEECH\n",
      "    probability: NEGLIGIBLE\n",
      "    probability_score: 0.06359858065843582\n",
      "    severity: HARM_SEVERITY_NEGLIGIBLE\n",
      "    severity_score: 0.04672496020793915\n",
      "  }\n",
      "  safety_ratings {\n",
      "    category: HARM_CATEGORY_DANGEROUS_CONTENT\n",
      "    probability: NEGLIGIBLE\n",
      "    probability_score: 0.02373468689620495\n",
      "    severity: HARM_SEVERITY_NEGLIGIBLE\n",
      "    severity_score: 0.060863446444272995\n",
      "  }\n",
      "  safety_ratings {\n",
      "    category: HARM_CATEGORY_HARASSMENT\n",
      "    probability: NEGLIGIBLE\n",
      "    probability_score: 0.07303238660097122\n",
      "    severity: HARM_SEVERITY_NEGLIGIBLE\n",
      "    severity_score: 0.03767939284443855\n",
      "  }\n",
      "  safety_ratings {\n",
      "    category: HARM_CATEGORY_SEXUALLY_EXPLICIT\n",
      "    probability: NEGLIGIBLE\n",
      "    probability_score: 0.24635197222232819\n",
      "    severity: HARM_SEVERITY_NEGLIGIBLE\n",
      "    severity_score: 0.14033624529838562\n",
      "  }\n",
      "}\n",
      "usage_metadata {\n",
      "  prompt_token_count: 19\n",
      "  candidates_token_count: 337\n",
      "  total_token_count: 356\n",
      "}\n",
      "\n"
     ]
    }
   ],
   "source": [
    "print(response)"
   ]
  },
  {
   "cell_type": "code",
   "execution_count": 12,
   "id": "c2402ab4-998c-4af4-94ff-1153e197a25b",
   "metadata": {},
   "outputs": [],
   "source": [
    "# Convert the response to a dictionary if it's not already\n",
    "response_json = response.to_dict()"
   ]
  },
  {
   "cell_type": "code",
   "execution_count": 13,
   "id": "44244963-f7b1-4397-9f5d-6e99fa99a28b",
   "metadata": {},
   "outputs": [],
   "source": [
    "# Extract the 'content' field from the 'candidates' list\n",
    "content_list = response_json.get('candidates', [])[0].get('content', {}).get('parts', [])"
   ]
  },
  {
   "cell_type": "code",
   "execution_count": 14,
   "id": "abfe9048-620d-41e2-933a-6c9d0aba67c0",
   "metadata": {},
   "outputs": [
    {
     "name": "stdout",
     "output_type": "stream",
     "text": [
      "Here are some good names for a flower shop specializing in dried flowers, categorized by style:\n",
      "\n",
      "**Elegant and Romantic:**\n",
      "\n",
      "* **Everlasting Bloom**\n",
      "* **Dried & Divine**\n",
      "* **The Petal Preserve**\n",
      "* **Bloom & Wither**\n",
      "* **Timeless Blooms**\n",
      "* **Whispers of Bloom**\n",
      "* **The Dried Garden**\n",
      "* **Bloom & Co.**\n",
      "\n",
      "**Modern and Unique:**\n",
      "\n",
      "* **Paper Petal**\n",
      "* **Dried Blooms Co.**\n",
      "* **The Bloom Bar**\n",
      "* **Faded & Fine**\n",
      "* **The Wildflower Co.**\n",
      "* **Field & Bloom**\n",
      "* **The Dried Bouquet**\n",
      "* **Bloom Forever**\n",
      "\n",
      "**Playful and Whimsical:**\n",
      "\n",
      "* **The Dried Flower Fairy**\n",
      "* **Little Dried Blooms**\n",
      "* **Dusty Petal Co.**\n",
      "* **The Bloom Box**\n",
      "* **Forever Flowers**\n",
      "* **Sun-Kissed Blooms**\n",
      "* **Wild & Dried**\n",
      "* **The Bloomery**\n",
      "\n",
      "**Location-Inspired:**\n",
      "\n",
      "* **[Your Town] Dried Blooms**\n",
      "* **[Your Street] Flower Co.**\n",
      "* **The [Local Landmark] Bloom Shop**\n",
      "\n",
      "**Tips for Choosing a Name:**\n",
      "\n",
      "* **Keep it short and memorable.**\n",
      "* **Consider your target audience.**\n",
      "* **Make sure the name is available as a website domain and social media handle.**\n",
      "* **Say the name out loud to see how it sounds.**\n",
      "\n",
      "**Bonus Tip:**  Think about incorporating a visual element into your logo that represents dried flowers, like a delicate flower silhouette or a stylized floral pattern. \n",
      "\n"
     ]
    }
   ],
   "source": [
    "# Iterate over the 'parts' list to find the 'text' field\n",
    "for part in content_list:\n",
    "    if 'text' in part:\n",
    "        print(part['text'])"
   ]
  },
  {
   "cell_type": "code",
   "execution_count": null,
   "id": "11ab155d-be7d-4bff-a364-5bbddc217a82",
   "metadata": {},
   "outputs": [],
   "source": []
  }
 ],
 "metadata": {
  "kernelspec": {
   "display_name": "Python 3 (ipykernel)",
   "language": "python",
   "name": "python3"
  },
  "language_info": {
   "codemirror_mode": {
    "name": "ipython",
    "version": 3
   },
   "file_extension": ".py",
   "mimetype": "text/x-python",
   "name": "python",
   "nbconvert_exporter": "python",
   "pygments_lexer": "ipython3",
   "version": "3.11.7"
  }
 },
 "nbformat": 4,
 "nbformat_minor": 5
}
